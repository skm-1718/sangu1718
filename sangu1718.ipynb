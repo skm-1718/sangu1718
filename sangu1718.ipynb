{
 "cells": [
  {
   "cell_type": "markdown",
   "metadata": {
    "id": "U1pC0ZUc353R"
   },
   "source": [
    "Identifiers"
   ]
  },
  {
   "cell_type": "code",
   "execution_count": null,
   "metadata": {
    "colab": {
     "base_uri": "https://localhost:8080/"
    },
    "id": "PY6K5urG2lOp",
    "outputId": "bd56bccc-116c-4c29-8efc-de2e07a193e7"
   },
   "outputs": [
    {
     "data": {
      "text/plain": [
       "[2, 4, 6, 8, 10]"
      ]
     },
     "execution_count": 2,
     "metadata": {},
     "output_type": "execute_result"
    }
   ],
   "source": [
    "my_variables= [2,4,6,8,10]\n",
    "my_variables"
   ]
  },
  {
   "cell_type": "code",
   "execution_count": null,
   "metadata": {
    "colab": {
     "base_uri": "https://localhost:8080/"
    },
    "id": "DWg99Ik43AY9",
    "outputId": "4490c56d-b10d-4185-bf41-f874d88cbd7d"
   },
   "outputs": [
    {
     "data": {
      "text/plain": [
       "['name', 'date', 'location']"
      ]
     },
     "execution_count": 9,
     "metadata": {},
     "output_type": "execute_result"
    }
   ],
   "source": [
    "records= ['name','date','location']\n",
    "records\n"
   ]
  },
  {
   "cell_type": "code",
   "execution_count": null,
   "metadata": {
    "colab": {
     "base_uri": "https://localhost:8080/"
    },
    "id": "8IzE5pdk3pgw",
    "outputId": "7bb4d4ee-85b7-4b42-e989-9d140595af83"
   },
   "outputs": [
    {
     "data": {
      "text/plain": [
       "['name', 'date', 'location']"
      ]
     },
     "execution_count": 8,
     "metadata": {},
     "output_type": "execute_result"
    }
   ],
   "source": [
    "records"
   ]
  },
  {
   "cell_type": "code",
   "execution_count": null,
   "metadata": {
    "colab": {
     "base_uri": "https://localhost:8080/"
    },
    "id": "tkiE4aPa4LS6",
    "outputId": "d8e6458d-8ffa-4890-b728-fb306e7e50ff"
   },
   "outputs": [
    {
     "data": {
      "text/plain": [
       "[2, 4, 6, 8, 10]"
      ]
     },
     "execution_count": 10,
     "metadata": {},
     "output_type": "execute_result"
    }
   ],
   "source": [
    "my_variables"
   ]
  },
  {
   "cell_type": "code",
   "execution_count": null,
   "metadata": {
    "colab": {
     "base_uri": "https://localhost:8080/",
     "height": 35
    },
    "id": "hr7LQTFo8_Cy",
    "outputId": "4dd49e13-236a-4d20-dd43-7f56308b6a8a"
   },
   "outputs": [
    {
     "data": {
      "application/vnd.google.colaboratory.intrinsic+json": {
       "type": "string"
      },
      "text/plain": [
       "'my name is Sangram'"
      ]
     },
     "execution_count": 28,
     "metadata": {},
     "output_type": "execute_result"
    }
   ],
   "source": [
    "name= 'my name is Sangram'\n",
    "\n",
    "name"
   ]
  },
  {
   "cell_type": "code",
   "execution_count": null,
   "metadata": {
    "colab": {
     "base_uri": "https://localhost:8080/",
     "height": 35
    },
    "id": "QacNiMs0-xpM",
    "outputId": "6bd74689-999c-4f77-db96-ba337480b4e2"
   },
   "outputs": [
    {
     "data": {
      "application/vnd.google.colaboratory.intrinsic+json": {
       "type": "string"
      },
      "text/plain": [
       "'your name is Vivek'"
      ]
     },
     "execution_count": 31,
     "metadata": {},
     "output_type": "execute_result"
    }
   ],
   "source": [
    "name_2= 'your name is Vivek'\n",
    "name_2\n",
    "\n"
   ]
  },
  {
   "cell_type": "code",
   "execution_count": null,
   "metadata": {
    "colab": {
     "base_uri": "https://localhost:8080/",
     "height": 35
    },
    "id": "0dA1wmkq_S85",
    "outputId": "6c217b77-6d52-4809-f922-5bcca14570cc"
   },
   "outputs": [
    {
     "data": {
      "application/vnd.google.colaboratory.intrinsic+json": {
       "type": "string"
      },
      "text/plain": [
       "'he works in jsw'"
      ]
     },
     "execution_count": 33,
     "metadata": {},
     "output_type": "execute_result"
    }
   ],
   "source": [
    "name_3= 'he works in jsw'\n",
    "name_3"
   ]
  },
  {
   "cell_type": "raw",
   "metadata": {
    "id": "HEaAzjat2nhM"
   },
   "source": [
    "#VARIABLES AND OPERATORS\n",
    "#VARIABLE NAME MUST START WITH A LETTER OR THE UNDERSCORE CHARACTER\n",
    "#VARIABLE CANNOT START WITH A NUMBER\n",
    "#IT CAN BE ALPHANUMERIC\n",
    "#IT IS CASE SENSITIVE\n",
    "#VARIBALES CAN NOT BE ANY KEYWORDS\n"
   ]
  },
  {
   "cell_type": "code",
   "execution_count": null,
   "metadata": {
    "id": "edljkPzU2nhN",
    "outputId": "d9580e9d-3d0c-4281-b9b9-63aa0708eee7"
   },
   "outputs": [
    {
     "name": "stdout",
     "output_type": "stream",
     "text": [
      "5\n"
     ]
    }
   ],
   "source": [
    "x=5\n",
    "print (x)"
   ]
  },
  {
   "cell_type": "code",
   "execution_count": null,
   "metadata": {
    "id": "I6j7uuET2nhP",
    "outputId": "19b48262-1c9a-4cef-b87e-f08ac4624751"
   },
   "outputs": [
    {
     "name": "stdout",
     "output_type": "stream",
     "text": [
      "2 (2, 3)\n"
     ]
    }
   ],
   "source": [
    "b=2\n",
    "c=2,3\n",
    "print (b,c)"
   ]
  },
  {
   "cell_type": "code",
   "execution_count": null,
   "metadata": {
    "id": "o-zW4XE82nhP",
    "outputId": "6aa6d46d-bb55-4f2e-9e65-a02783fa0830"
   },
   "outputs": [
    {
     "name": "stdout",
     "output_type": "stream",
     "text": [
      "apple\n"
     ]
    }
   ],
   "source": [
    "x=\"apple\"\n",
    "print(x)"
   ]
  },
  {
   "cell_type": "code",
   "execution_count": null,
   "metadata": {
    "id": "pKeHSXiO2nhP",
    "outputId": "2569df9f-baab-470d-e3d2-73262f219217"
   },
   "outputs": [
    {
     "name": "stdout",
     "output_type": "stream",
     "text": [
      "23\n"
     ]
    }
   ],
   "source": [
    "student=23\n",
    "print (student)"
   ]
  },
  {
   "cell_type": "code",
   "execution_count": null,
   "metadata": {
    "id": "Jk2d3D9X2nhQ",
    "outputId": "be057cf3-2e5c-4205-d0ae-48ea8db964ec"
   },
   "outputs": [
    {
     "name": "stdout",
     "output_type": "stream",
     "text": [
      "25\n"
     ]
    }
   ],
   "source": [
    "student123=25\n",
    "print(student123)"
   ]
  },
  {
   "cell_type": "code",
   "execution_count": null,
   "metadata": {
    "id": "NLgFzvyy2nhQ",
    "outputId": "3b8b9ae5-ab3d-41b3-a8bd-611953fff2ad"
   },
   "outputs": [
    {
     "name": "stdout",
     "output_type": "stream",
     "text": [
      "5\n"
     ]
    }
   ],
   "source": [
    "_a=5\n",
    "print(_a)"
   ]
  }
 ],
 "metadata": {
  "colab": {
   "provenance": [],
   "toc_visible": true
  },
  "kernelspec": {
   "display_name": "Python 3 (ipykernel)",
   "language": "python",
   "name": "python3"
  },
  "language_info": {
   "codemirror_mode": {
    "name": "ipython",
    "version": 3
   },
   "file_extension": ".py",
   "mimetype": "text/x-python",
   "name": "python",
   "nbconvert_exporter": "python",
   "pygments_lexer": "ipython3",
   "version": "3.12.4"
  }
 },
 "nbformat": 4,
 "nbformat_minor": 4
}
